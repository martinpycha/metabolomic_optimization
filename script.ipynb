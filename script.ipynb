{
 "cells": [
  {
   "cell_type": "markdown",
   "id": "31f92b0f",
   "metadata": {},
   "source": [
    "#### Script for graph pruning"
   ]
  },
  {
   "cell_type": "markdown",
   "id": "43fd0edb",
   "metadata": {},
   "source": [
    "Importing needed libraries and modules"
   ]
  },
  {
   "cell_type": "code",
   "execution_count": 49,
   "id": "bea7cc25",
   "metadata": {},
   "outputs": [],
   "source": [
    "import os\n",
    "#os.getcwd()\n",
    "#print(os.getcwd())\n",
    "import importlib\n",
    "import create_graph as pruning\n",
    "importlib.reload(pruning)\n",
    "import pandas as pd"
   ]
  },
  {
   "cell_type": "markdown",
   "id": "3c264cb8",
   "metadata": {},
   "source": [
    "Input file must be provided in the *.graphml* format for the script to work properly.\n",
    "The location of the file is used as an input for the algorithm.\n",
    "* As the first step, the .graphml file is parsed, molecules and reactions are converted into objects.\n",
    "* The function prepare_mols_reacs also provides all the molecules, reactions, initial reactants and final products.\n",
    "    * The initial reactants are the molecules, which are not products of any reaction and therefore must have been added to the system.\n",
    "    * The final products are the molecules, which are not reactants of any reactions and therefore must leave the system. "
   ]
  },
  {
   "cell_type": "code",
   "execution_count": 50,
   "id": "6aed87f3",
   "metadata": {},
   "outputs": [
    {
     "name": "stdout",
     "output_type": "stream",
     "text": [
      "Number of parsed reactions: 358\n"
     ]
    }
   ],
   "source": [
    "# \"./threepath.graphml\" is an address relative to the current directory (directory of this script)\n",
    "molecules, reactions, first_reactants, final_products = pruning.prepare_mols_reacs(\"./threepath.graphml\")\n"
   ]
  },
  {
   "cell_type": "markdown",
   "id": "2add0cde",
   "metadata": {},
   "source": [
    "Now, the algorithm class can be initiated."
   ]
  },
  {
   "cell_type": "code",
   "execution_count": 51,
   "id": "8fcc405f",
   "metadata": {},
   "outputs": [],
   "source": [
    "pruning_algorithm = pruning.Pruning(reactions, first_reactants, final_products, molecules)"
   ]
  },
  {
   "cell_type": "markdown",
   "id": "25cedf19",
   "metadata": {},
   "source": [
    "After the initiation of the algorithm, the pruning itself can be conducted. There are various steps, which can be taken.\n",
    "\n",
    "**1. Keeping the bare minimum** (.prune)\n",
    "* For every initial reactant, the 'outcoming' reaction with the highest value is added.\n",
    "* For every final product, the 'incoming' reaction with the highest value is added.\n",
    "* For every molecule, which is neither initial reactant nor final product, both 'incoming' and 'outcoming' reactions with the highest values are added.\n",
    "\n",
    "This result can already be saved into .graphml file and visualized in an appropriate editor (yEd for instance). The address of the original file is the first argument, then the address of the output and the set of the kept reactions (pruned_reactions)."
   ]
  },
  {
   "cell_type": "code",
   "execution_count": 52,
   "id": "b4838d46",
   "metadata": {},
   "outputs": [
    {
     "name": "stdout",
     "output_type": "stream",
     "text": [
      "Number of pruned reactions after pruning: 62\n"
     ]
    }
   ],
   "source": [
    "pruning_algorithm.prune()\n",
    "\n",
    "# checking the number of reactions after the pruning\n",
    "print(f\"Number of pruned reactions after pruning: {len(pruning_algorithm.pruned_reactions)}\")\n",
    "\n",
    "# saving the reactions into a graphml file\n",
    "pruning.gp.to_graphml(\"./threepath.graphml\", \"pruned.graphml\", pruning_algorithm.pruned_reactions)"
   ]
  },
  {
   "cell_type": "markdown",
   "id": "69e88d09",
   "metadata": {},
   "source": [
    "**2. Ensuring connectivity** (.ensure_connectivity())\n",
    "* This step ensures, that the resulting graph is connected, since the previous step could result in a bigger number of 'subgraphs' (metabolic 'subnetworks'), which are not connected by any reaction\n",
    "* During this step, the reaction with the highest value is iteratively added between two 'subnetworks', ensuring the connectivity of the map/graph.\n",
    "\n",
    "As before, it is possible to save the result."
   ]
  },
  {
   "cell_type": "code",
   "execution_count": 53,
   "id": "588dc587",
   "metadata": {},
   "outputs": [
    {
     "name": "stdout",
     "output_type": "stream",
     "text": [
      "Number of pruned reactions after pruning: 69\n"
     ]
    }
   ],
   "source": [
    "pruning_algorithm.ensure_connectivity()\n",
    "\n",
    "# checking the number of reactions after the pruning\n",
    "print(f\"Number of pruned reactions after pruning: {len(pruning_algorithm.pruned_reactions)}\")\n",
    "\n",
    "# saving the reactions into a graphml file\n",
    "pruning.gp.to_graphml(\"./threepath.graphml\", \"connected.graphml\", pruning_algorithm.pruned_reactions)"
   ]
  },
  {
   "cell_type": "markdown",
   "id": "8146017a",
   "metadata": {},
   "source": [
    "**3. Adding all the reactions beyond threshold.** (.addBeyondTreshold())\n",
    "* The reactions so far keep the basic logic of the metabolomic path - from every initial reactant, you can get to the final product and the metabolomic map is one big graph. However, there might be reactions with very high values, which might not have been included in the map in the past stages because of the logic of the algorithm.\n",
    "* In this step, all reactions beyond maximum of 75 % of reactions are removed.\n",
    "\n",
    "As before, it is possible to save the result."
   ]
  },
  {
   "cell_type": "code",
   "execution_count": 54,
   "id": "44ec00f3",
   "metadata": {},
   "outputs": [
    {
     "name": "stdout",
     "output_type": "stream",
     "text": [
      "Number of pruned reactions after pruning: 104\n"
     ]
    }
   ],
   "source": [
    "pruning_algorithm.addBeyondTreshold(threshold=0.75)\n",
    "\n",
    "# checking the number of reactions after the pruning\n",
    "print(f\"Number of pruned reactions after pruning: {len(pruning_algorithm.pruned_reactions)}\")\n",
    "\n",
    "# saving the reactions into a graphml file\n",
    "pruning.gp.to_graphml(\"./threepath.graphml\", \"percentil75.graphml\", pruning_algorithm.pruned_reactions)"
   ]
  }
 ],
 "metadata": {
  "kernelspec": {
   "display_name": "base",
   "language": "python",
   "name": "python3"
  },
  "language_info": {
   "codemirror_mode": {
    "name": "ipython",
    "version": 3
   },
   "file_extension": ".py",
   "mimetype": "text/x-python",
   "name": "python",
   "nbconvert_exporter": "python",
   "pygments_lexer": "ipython3",
   "version": "3.12.2"
  }
 },
 "nbformat": 4,
 "nbformat_minor": 5
}
