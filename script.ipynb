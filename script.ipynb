{
 "cells": [
  {
   "cell_type": "markdown",
   "id": "31f92b0f",
   "metadata": {},
   "source": [
    "#### Script for graph pruning"
   ]
  },
  {
   "cell_type": "markdown",
   "id": "43fd0edb",
   "metadata": {},
   "source": [
    "Importing needed libraries and modules"
   ]
  },
  {
   "cell_type": "code",
   "execution_count": 216,
   "id": "bea7cc25",
   "metadata": {},
   "outputs": [
    {
     "name": "stdout",
     "output_type": "stream",
     "text": [
      "/Users/martinpycha/Desktop/Job_AV/metabolomic_optimization\n"
     ]
    }
   ],
   "source": [
    "import os\n",
    "os.getcwd()\n",
    "print(os.getcwd())\n",
    "import importlib\n",
    "import create_graph as pruning\n",
    "importlib.reload(pruning)\n",
    "import pandas as pd"
   ]
  },
  {
   "cell_type": "markdown",
   "id": "3c264cb8",
   "metadata": {},
   "source": [
    "Input file must be provided in the *.graphml* format for the script to work properly.\n",
    "The location of the file is used as an input for the algorithm.\n",
    "* As the first step, the .graphml file is parsed, molecules and reactions are converted into objects.\n",
    "* The function prepare_mols_reacs also provides all the molecules, reactions, initial reactants and final products.\n",
    "    * The initial reactants are the molecules, which are not products of any reaction and therefore must have been added to the system.\n",
    "    * The final products are the molecules, which are not reactants of any reactions and therefore must leave the system. "
   ]
  },
  {
   "cell_type": "code",
   "execution_count": 217,
   "id": "6aed87f3",
   "metadata": {},
   "outputs": [
    {
     "name": "stdout",
     "output_type": "stream",
     "text": [
      "Number of parsed reactions: 1234\n"
     ]
    }
   ],
   "source": [
    "# \"./threepath.graphml\" is an address relative to the current directory (directory of this script)\n",
    "# path to the source graphml file - the graph to be pruned\n",
    "INPUT_PATH_GRAPHML = \"./assets/input/PalPaoSteOle_regular.graphml\"\n",
    "molecules, reactions, first_reactants, final_products = pruning.prepare_mols_reacs(INPUT_PATH_GRAPHML)\n"
   ]
  },
  {
   "cell_type": "markdown",
   "id": "2add0cde",
   "metadata": {},
   "source": [
    "#### Running the algorithm\n",
    "\n",
    "\n",
    "Now, the algorithm class can be initiated.\n",
    "\n",
    "**1. Keeping the bare minimum** (basic_pruning)\n",
    "* For every initial reactant, the 'outcoming' reaction with the highest value is added.\n",
    "* For every final product, the 'incoming' reaction with the highest value is added.\n",
    "* For every molecule, which is neither initial reactant nor final product, both 'incoming' and 'outcoming' reactions with the highest values are added.\n",
    "\n",
    "**2. Ensuring connectivity** (connecting)\n",
    "* This step ensures, that the resulting graph is connected, since the previous step could result in a bigger number of 'subgraphs' (metabolic 'subnetworks'), which are not connected by any reaction\n",
    "* During this step, the reaction with the highest value is iteratively added between two 'subnetworks', ensuring the connectivity of the map/graph.\n",
    "\n",
    "**3. Adding all the reactions beyond threshold.** (adding_beyond_threshold)\n",
    "* The reactions so far keep the basic logic of the metabolomic path - from every initial reactant, you can get to the final product and the metabolomic map is one big graph. However, there might be reactions with very high values, which might not have been included in the map in the past stages because of the logic of the algorithm.\n",
    "* In this step, all reactions beyond maximum of x % of reactions are removed (example 60%)."
   ]
  },
  {
   "cell_type": "code",
   "execution_count": 218,
   "id": "8fcc405f",
   "metadata": {},
   "outputs": [
    {
     "name": "stdout",
     "output_type": "stream",
     "text": [
      "Basic pruning has been conducted.\n",
      "Number of reactions kept: 271, which is 21.96% of all reactions.\n",
      "Connectivity has been ensured.\n",
      "Number of reactions kept: 299, which is 24.23% of all reactions.\n",
      "All reactions beyond threshold 0.9 have been added.\n",
      "Number of reactions kept: 342, which is 27.71% of all reactions.\n"
     ]
    }
   ],
   "source": [
    "\n",
    "pruning_algorithm = pruning.Pruning(\n",
    "                        reactions=reactions, \n",
    "                        first_reactants=first_reactants, \n",
    "                        final_products=final_products, \n",
    "                        molecules=molecules,\n",
    "                        basic_pruning=True,\n",
    "                        connecting=True,\n",
    "                        adding_beyond_treshold=True,\n",
    "                        threshold=0.90\n",
    "                    )\n",
    "\n",
    "# running the algorithm\n",
    "pruning_algorithm.run()\n"
   ]
  },
  {
   "cell_type": "markdown",
   "id": "d771ec15",
   "metadata": {},
   "source": [
    "#### Saving the outputs\n",
    "\n",
    "\n",
    "The *save_result_graphml* alters the original reaction .graphml file and saves the resulting .graphml file into the desired location. Therefore, both the file address of the original file and the desired file path of the new file must be entered. Part of the name can be determined by *name* argument.\n",
    "\n",
    "The *save_result_txt* alters the original reaction .txt file and saves the resulting .txt file into the desired location. The information about the arguments is above."
   ]
  },
  {
   "cell_type": "code",
   "execution_count": 219,
   "id": "b4838d46",
   "metadata": {},
   "outputs": [
    {
     "name": "stdout",
     "output_type": "stream",
     "text": [
      "283\n",
      "Succesfully written the result into the file!\n"
     ]
    }
   ],
   "source": [
    "# path to the original reactions - reactions to be selected\n",
    "INPUT_PATH_TXT = \"./assets/input/PalPaoSteOle_regular.txt\"\n",
    "# path to the output, where both the resulting .graphml file and .txt file is stored\n",
    "OUTPUT_PATH = \"./assets/output\"\n",
    "\n",
    "# saving the result into .graphml\n",
    "pruning.save_result_graphml(INPUT_PATH_GRAPHML, OUTPUT_PATH, pruning_algorithm, name=\"PalPaoSteOle_regular\")\n",
    "# saving the result into .txt \n",
    "pruning.save_result_txt(INPUT_PATH_TXT, OUTPUT_PATH, pruning_algorithm, name=\"PalPaoSteOle_regular\")"
   ]
  },
  {
   "cell_type": "markdown",
   "id": "34c6536d",
   "metadata": {},
   "source": []
  },
  {
   "cell_type": "code",
   "execution_count": null,
   "id": "996256d9",
   "metadata": {},
   "outputs": [],
   "source": []
  }
 ],
 "metadata": {
  "kernelspec": {
   "display_name": "base",
   "language": "python",
   "name": "python3"
  },
  "language_info": {
   "codemirror_mode": {
    "name": "ipython",
    "version": 3
   },
   "file_extension": ".py",
   "mimetype": "text/x-python",
   "name": "python",
   "nbconvert_exporter": "python",
   "pygments_lexer": "ipython3",
   "version": "3.12.2"
  }
 },
 "nbformat": 4,
 "nbformat_minor": 5
}
