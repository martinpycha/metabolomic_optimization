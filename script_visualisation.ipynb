{
 "cells": [
  {
   "cell_type": "markdown",
   "id": "c627e311",
   "metadata": {},
   "source": [
    "## Script for the visualisation of results"
   ]
  },
  {
   "cell_type": "markdown",
   "id": "70719e62",
   "metadata": {},
   "source": [
    "##### Import knihoven\n"
   ]
  },
  {
   "cell_type": "code",
   "execution_count": 24,
   "id": "ed7059a6",
   "metadata": {},
   "outputs": [
    {
     "name": "stdout",
     "output_type": "stream",
     "text": [
      "/Users/martinpycha/Desktop/Job_AV/metabolomic_optimization\n"
     ]
    }
   ],
   "source": [
    "import os\n",
    "os.getcwd()\n",
    "print(os.getcwd())\n",
    "import importlib\n",
    "import create_graph as visualisation\n",
    "importlib.reload(visualisation)\n",
    "import pandas as pd"
   ]
  },
  {
   "cell_type": "code",
   "execution_count": null,
   "id": "a8a6dc59",
   "metadata": {},
   "outputs": [
    {
     "name": "stdout",
     "output_type": "stream",
     "text": [
      "Number of parsed reactions: 1234\n"
     ]
    }
   ],
   "source": [
    "#INPUT_PATH_GRAPHML = \"./assets/input/PalPaoSteOle_regular.graphml\"\n",
    "# JEDNO Z TOHO VYBRAT, OSTATNI ZAKOMENTOVAT:\n",
    "#INPUT_PATH_GRAPHML = \"./assets/input/PalPaoSteOle_regular.graphml\"\n",
    "INPUT_PATH_GRAPHML = \"./assets/input/threepath_PPSO_T40.graphml\"\n",
    "INPUT_PATH_GRAPHML = \"./assets/output/PPSO_T40_T10.graphml\"\n",
    "INPUT_PATH_GRAPHML = \"./assets/output/PPSO_T40_NO_PRE_T10.graphml\"\n",
    "molecules, reactions, first_reactants, final_products, _ = visualisation.prepare_mols_reacs(INPUT_PATH_GRAPHML)"
   ]
  },
  {
   "cell_type": "code",
   "execution_count": null,
   "id": "2d9a0a7c",
   "metadata": {},
   "outputs": [
    {
     "name": "stdout",
     "output_type": "stream",
     "text": [
      "The following node should be included: Cit\n"
     ]
    }
   ],
   "source": [
    "visualisation_algorithm = visualisation.Visualisation(\n",
    "    reactions, \n",
    "    first_reactants, \n",
    "    final_products, \n",
    "    molecules,\n",
    "    basic_pruning=True,\n",
    "    connecting=True,\n",
    "    adding_beyond_treshold=True,\n",
    "    init_num_reactions=10\n",
    ")\n",
    "# running the algorithm\n",
    "\n",
    "# Following order must be kept\n",
    "# SORT -> ADD_EDGES -> INCLUDE_SPECIFIC_NODES -> ADD_BFS -> UNITE_MOLECULES -> REMOVE_SELF_LOOPS\n",
    "visualisation_algorithm.sort()\n",
    "visualisation_algorithm.add_edges()\n",
    "\n",
    "\n",
    "# ADDING SPECIFIC MOLECULES\n",
    "# ----------------------------------------------------------------\n",
    "specific_nodes = [\"Cit\"]\n",
    "visualisation_algorithm.include_specific_nodes(specific_nodes)\n",
    "# ----------------------------------------------------------------\n",
    "\n",
    "# adding all the reactions which are needed for the logic of the network\n",
    "added_reactions = visualisation_algorithm.add_bfs()\n",
    "\n",
    "# UNIFICATION\n",
    "# ----------------------------------------------------------------\n",
    "list_of_mols_unite1 = [\n",
    "    \"Glc.lab\",\n",
    "    \"Glc\",\n",
    "    \"DHAP\",\n",
    "    \"G3P.New\",\n",
    "    \"G3P\"\n",
    "]\n",
    "list_of_mols_unite2 = [...]\n",
    "# uniting certain list of nodes (molecules), which are to be united into a single node\n",
    "visualisation_algorithm.unite_molecules(list_of_mols_unite1, \"GLYKOLYSA\")\n",
    "# ----------------------------------------------------------------\n",
    "\n",
    "\n",
    "\n",
    "##second_algorithm.unite_molecules(list_of_mols_unite3, \"!!!TEST!!!\")\n",
    "#second_algorithm.unite_molecules(list_of_mols_unite4, \"OOOOOOOOOOOOOOOOOOOOOOOOO\")\n",
    "\n",
    "# we remove all the possible loops (reactions going from the node to itself)\n",
    "# + if more of the same reactions go from/to the same node to/from the new node, one single reaction is created\n",
    "# such reactions value is then calculated accordingly, one of the double reactions is removed\n",
    "visualisation_algorithm.remove_self_loops()\n",
    "#second_algorithm.unite_reactions()\n"
   ]
  },
  {
   "cell_type": "code",
   "execution_count": 27,
   "id": "c62d4dfb",
   "metadata": {},
   "outputs": [],
   "source": [
    "# path to the output, where both the resulting .graphml file and .txt file is stored\n",
    "OUTPUT_PATH = \"./assets/output\"\n",
    "\n",
    "#save_result_txt(INPUT_PATH_TXT, OUTPUT_PATH, second_algorithm, name=\"UNITED\")\n",
    "\n",
    "visualisation.save_res(INPUT_PATH_GRAPHML, OUTPUT_PATH, visualisation_algorithm, name=\"FINAL\")"
   ]
  },
  {
   "cell_type": "markdown",
   "id": "a4318212",
   "metadata": {},
   "source": []
  }
 ],
 "metadata": {
  "kernelspec": {
   "display_name": "base",
   "language": "python",
   "name": "python3"
  },
  "language_info": {
   "codemirror_mode": {
    "name": "ipython",
    "version": 3
   },
   "file_extension": ".py",
   "mimetype": "text/x-python",
   "name": "python",
   "nbconvert_exporter": "python",
   "pygments_lexer": "ipython3",
   "version": "3.12.2"
  }
 },
 "nbformat": 4,
 "nbformat_minor": 5
}
